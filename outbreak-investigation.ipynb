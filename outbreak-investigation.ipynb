{
 "cells": [
  {
   "cell_type": "markdown",
   "metadata": {},
   "source": [
    "## Scenario\n",
    "You are a health officer in a rural town. Your boss has asked you to investigate an acute outbreak of gastroenteritis in the town. When you reach the site, you learn that all persons known to be ill attended a church supper held on the previous evening. Family members who did not attend the supper did not become ill. You decide to proceed with the investigation\n",
    "\n",
    "## Facts about the outbreak\n",
    "- 80 people attended the church supper. \n",
    "- You have information from interviewing 75 of 80 people\n",
    "- You obtained information about the occurrence of symptoms, time of occurrence, and food they consumed\n",
    "- 46 of 75 people reported gatrointestinal illness\n",
    "- Onset of illness was acute\n",
    "\n",
    "## Facts about the illness\n",
    "\n",
    "- Characterised by nausea, vomitig, diarrhoea, abdominal pain\n",
    "- None of the affected people reported having fever\n",
    "- All recovered within 24 hours\n",
    "- 10 of the 46 people visited local GPs\n",
    "- No one collected stool specimens for examination\n",
    "- You suspect that food was the 'vehicle' for this outbreak\n",
    "\n",
    "## Administer a questionnaire\n",
    "You decide to administer a questionnaire to the church supper participants. What information would you collect? Write as many words/sentences as you can, and rate each other's questions\n",
    "\n",
    "[Answer the question here](https://www.wooclap.com/OUTBREAK)"
   ]
  },
  {
   "cell_type": "markdown",
   "metadata": {},
   "source": [
    "## Description of the supper\n",
    "- The supper was held at the lawn of the church\n",
    "- Many members of the congregation brought the food\n",
    "- The supper began at 6:00 pm and ended at 11:00 pm\n",
    "- A line listing of all 75 people are available \n",
    "- (download the csv file and open in your spreadsheet programme or work with the tools in jupyter notebook)\n",
    "\n",
    "## Calculate the statistics of incubation period\n",
    "\n",
    "- Go to [Jupyter notebook](https://notebooks.azure.com)\n",
    "- log in with your username and password\n",
    "- Open the ipynb file\n",
    "- Download the csv file\n",
    "- Calculate the incubation period (step by step): \n",
    "- Follow the live coding exercise with me\n",
    "\n",
    "## What does this graph tell you?\n",
    "![outbreak curve](outbreak1.png)\n",
    "\n",
    "[Answer here](https://www.wooclap.com/OUTBREAK)\n",
    "\n",
    "## What does the following table on incubation period tell you?\n",
    "\n",
    "| Parameter | Hours |\n",
    "|:----------|:-----:|\n",
    "| Mean      | 4.29  |\n",
    "| Median    | 4.0   |\n",
    "| Minimum   | 3.0   |\n",
    "| Maximum   | 7.0   |\n",
    "\n",
    "[Answer the question here](https://www.wooclap.com/OUTBREAK)\n",
    "\n",
    "## Download and read the compendium document\n",
    "- What seems to be the souce of this outbreak?\n",
    "\n",
    "[Answer the question here](https://www.wooclap.com/OUTBREAK)\n",
    "\n",
    "## Work with me on live coding\n",
    "- We will create the following table for each food item\n",
    "\n",
    "| Food item  | ill | Not ill | Odds Ratio |\n",
    "|------------|-----|---------|------------|\n",
    "|  Ate it    |  x  | y       |            |\n",
    "| did not eat| c   | d       |            |\n",
    "\n",
    "## Fill in the following table\n",
    "\n",
    "| Food item | Odds Ratio |\n",
    "|-----------|-------------------|\n",
    "| Baked ham |                   |\n",
    "| Spinach   |                   |\n",
    "| ...      |  ...               |\n",
    "| Vanilla ice cream | ...                |\n",
    "| chocolate ice cream | ...       |\n",
    "\n",
    "## Which food item is the offending food item?\n",
    "\n",
    "[Answer this question](https://www.wooclap.com/OUTBREAK)\n",
    "\n",
    "## What further investigations will you do?\n",
    "\n",
    "- Group discussion in the class\n",
    "\n",
    "## What control measures will you suggest?\n",
    "\n",
    "- Group discussion in the class\n",
    "\n",
    "## What have you learned from this exercise?\n",
    "\n",
    "- Group discussion in the class"
   ]
  },
  {
   "cell_type": "code",
   "execution_count": 10,
   "metadata": {},
   "outputs": [],
   "source": [
    "library(tidyverse)\n",
    "library(epitools)"
   ]
  },
  {
   "cell_type": "code",
   "execution_count": 11,
   "metadata": {},
   "outputs": [
    {
     "data": {
      "text/html": [
       "<table>\n",
       "<caption>A data.frame: 6 × 21</caption>\n",
       "<thead>\n",
       "\t<tr><th scope=col>id</th><th scope=col>age</th><th scope=col>sex</th><th scope=col>meal.time</th><th scope=col>ill</th><th scope=col>onset.date</th><th scope=col>onset.time</th><th scope=col>baked.ham</th><th scope=col>spinach</th><th scope=col>mashed.potato</th><th scope=col>⋯</th><th scope=col>jello</th><th scope=col>rolls</th><th scope=col>brown.bread</th><th scope=col>milk</th><th scope=col>coffee</th><th scope=col>water</th><th scope=col>cakes</th><th scope=col>vanilla.ice.cream</th><th scope=col>chocolate.ice.cream</th><th scope=col>fruit.salad</th></tr>\n",
       "\t<tr><th scope=col>&lt;int&gt;</th><th scope=col>&lt;int&gt;</th><th scope=col>&lt;chr&gt;</th><th scope=col>&lt;chr&gt;</th><th scope=col>&lt;chr&gt;</th><th scope=col>&lt;chr&gt;</th><th scope=col>&lt;chr&gt;</th><th scope=col>&lt;chr&gt;</th><th scope=col>&lt;chr&gt;</th><th scope=col>&lt;chr&gt;</th><th scope=col>⋯</th><th scope=col>&lt;chr&gt;</th><th scope=col>&lt;chr&gt;</th><th scope=col>&lt;chr&gt;</th><th scope=col>&lt;chr&gt;</th><th scope=col>&lt;chr&gt;</th><th scope=col>&lt;chr&gt;</th><th scope=col>&lt;chr&gt;</th><th scope=col>&lt;chr&gt;</th><th scope=col>&lt;chr&gt;</th><th scope=col>&lt;chr&gt;</th></tr>\n",
       "</thead>\n",
       "<tbody>\n",
       "\t<tr><td>2</td><td>52</td><td>F</td><td>8:00 PM</td><td>Y</td><td>4/19</td><td>12:30 AM</td><td>Y</td><td>Y</td><td>Y</td><td>⋯</td><td>N</td><td>Y</td><td>N</td><td>N</td><td>Y</td><td>N</td><td>N</td><td>Y</td><td>N</td><td>N</td></tr>\n",
       "\t<tr><td>3</td><td>65</td><td>M</td><td>6:30 PM</td><td>Y</td><td>4/19</td><td>12:30 AM</td><td>Y</td><td>Y</td><td>Y</td><td>⋯</td><td>N</td><td>N</td><td>N</td><td>N</td><td>Y</td><td>N</td><td>N</td><td>Y</td><td>Y</td><td>N</td></tr>\n",
       "\t<tr><td>4</td><td>59</td><td>F</td><td>6:30 PM</td><td>Y</td><td>4/19</td><td>12:30 AM</td><td>Y</td><td>Y</td><td>N</td><td>⋯</td><td>N</td><td>N</td><td>N</td><td>N</td><td>Y</td><td>N</td><td>Y</td><td>Y</td><td>Y</td><td>N</td></tr>\n",
       "\t<tr><td>6</td><td>63</td><td>F</td><td>7:30 PM</td><td>Y</td><td>4/18</td><td>10:30 PM</td><td>Y</td><td>Y</td><td>N</td><td>⋯</td><td>Y</td><td>N</td><td>N</td><td>N</td><td>N</td><td>Y</td><td>N</td><td>Y</td><td>N</td><td>N</td></tr>\n",
       "\t<tr><td>7</td><td>70</td><td>M</td><td>7:30 PM</td><td>Y</td><td>4/18</td><td>10:30 PM</td><td>Y</td><td>Y</td><td>Y</td><td>⋯</td><td>Y</td><td>Y</td><td>Y</td><td>N</td><td>Y</td><td>Y</td><td>N</td><td>Y</td><td>N</td><td>N</td></tr>\n",
       "\t<tr><td>8</td><td>40</td><td>F</td><td>7:30 PM</td><td>Y</td><td>4/19</td><td>2:00 AM </td><td>N</td><td>N</td><td>N</td><td>⋯</td><td>N</td><td>N</td><td>N</td><td>N</td><td>N</td><td>N</td><td>N</td><td>Y</td><td>Y</td><td>N</td></tr>\n",
       "</tbody>\n",
       "</table>\n"
      ],
      "text/latex": [
       "A data.frame: 6 × 21\n",
       "\\begin{tabular}{r|lllllllllllllllllllll}\n",
       " id & age & sex & meal.time & ill & onset.date & onset.time & baked.ham & spinach & mashed.potato & cabbage.salad & jello & rolls & brown.bread & milk & coffee & water & cakes & vanilla.ice.cream & chocolate.ice.cream & fruit.salad\\\\\n",
       " <int> & <int> & <chr> & <chr> & <chr> & <chr> & <chr> & <chr> & <chr> & <chr> & <chr> & <chr> & <chr> & <chr> & <chr> & <chr> & <chr> & <chr> & <chr> & <chr> & <chr>\\\\\n",
       "\\hline\n",
       "\t 2 & 52 & F & 8:00 PM & Y & 4/19 & 12:30 AM & Y & Y & Y & N & N & Y & N & N & Y & N & N & Y & N & N\\\\\n",
       "\t 3 & 65 & M & 6:30 PM & Y & 4/19 & 12:30 AM & Y & Y & Y & Y & N & N & N & N & Y & N & N & Y & Y & N\\\\\n",
       "\t 4 & 59 & F & 6:30 PM & Y & 4/19 & 12:30 AM & Y & Y & N & N & N & N & N & N & Y & N & Y & Y & Y & N\\\\\n",
       "\t 6 & 63 & F & 7:30 PM & Y & 4/18 & 10:30 PM & Y & Y & N & Y & Y & N & N & N & N & Y & N & Y & N & N\\\\\n",
       "\t 7 & 70 & M & 7:30 PM & Y & 4/18 & 10:30 PM & Y & Y & Y & N & Y & Y & Y & N & Y & Y & N & Y & N & N\\\\\n",
       "\t 8 & 40 & F & 7:30 PM & Y & 4/19 & 2:00 AM  & N & N & N & N & N & N & N & N & N & N & N & Y & Y & N\\\\\n",
       "\\end{tabular}\n"
      ],
      "text/markdown": [
       "\n",
       "A data.frame: 6 × 21\n",
       "\n",
       "| id &lt;int&gt; | age &lt;int&gt; | sex &lt;chr&gt; | meal.time &lt;chr&gt; | ill &lt;chr&gt; | onset.date &lt;chr&gt; | onset.time &lt;chr&gt; | baked.ham &lt;chr&gt; | spinach &lt;chr&gt; | mashed.potato &lt;chr&gt; | ⋯ ⋯ | jello &lt;chr&gt; | rolls &lt;chr&gt; | brown.bread &lt;chr&gt; | milk &lt;chr&gt; | coffee &lt;chr&gt; | water &lt;chr&gt; | cakes &lt;chr&gt; | vanilla.ice.cream &lt;chr&gt; | chocolate.ice.cream &lt;chr&gt; | fruit.salad &lt;chr&gt; |\n",
       "|---|---|---|---|---|---|---|---|---|---|---|---|---|---|---|---|---|---|---|---|---|\n",
       "| 2 | 52 | F | 8:00 PM | Y | 4/19 | 12:30 AM | Y | Y | Y | ⋯ | N | Y | N | N | Y | N | N | Y | N | N |\n",
       "| 3 | 65 | M | 6:30 PM | Y | 4/19 | 12:30 AM | Y | Y | Y | ⋯ | N | N | N | N | Y | N | N | Y | Y | N |\n",
       "| 4 | 59 | F | 6:30 PM | Y | 4/19 | 12:30 AM | Y | Y | N | ⋯ | N | N | N | N | Y | N | Y | Y | Y | N |\n",
       "| 6 | 63 | F | 7:30 PM | Y | 4/18 | 10:30 PM | Y | Y | N | ⋯ | Y | N | N | N | N | Y | N | Y | N | N |\n",
       "| 7 | 70 | M | 7:30 PM | Y | 4/18 | 10:30 PM | Y | Y | Y | ⋯ | Y | Y | Y | N | Y | Y | N | Y | N | N |\n",
       "| 8 | 40 | F | 7:30 PM | Y | 4/19 | 2:00 AM  | N | N | N | ⋯ | N | N | N | N | N | N | N | Y | Y | N |\n",
       "\n"
      ],
      "text/plain": [
       "  id age sex meal.time ill onset.date onset.time baked.ham spinach\n",
       "1 2  52  F   8:00 PM   Y   4/19       12:30 AM   Y         Y      \n",
       "2 3  65  M   6:30 PM   Y   4/19       12:30 AM   Y         Y      \n",
       "3 4  59  F   6:30 PM   Y   4/19       12:30 AM   Y         Y      \n",
       "4 6  63  F   7:30 PM   Y   4/18       10:30 PM   Y         Y      \n",
       "5 7  70  M   7:30 PM   Y   4/18       10:30 PM   Y         Y      \n",
       "6 8  40  F   7:30 PM   Y   4/19       2:00 AM    N         N      \n",
       "  mashed.potato ⋯ jello rolls brown.bread milk coffee water cakes\n",
       "1 Y             ⋯ N     Y     N           N    Y      N     N    \n",
       "2 Y             ⋯ N     N     N           N    Y      N     N    \n",
       "3 N             ⋯ N     N     N           N    Y      N     Y    \n",
       "4 N             ⋯ Y     N     N           N    N      Y     N    \n",
       "5 Y             ⋯ Y     Y     Y           N    Y      Y     N    \n",
       "6 N             ⋯ N     N     N           N    N      N     N    \n",
       "  vanilla.ice.cream chocolate.ice.cream fruit.salad\n",
       "1 Y                 N                   N          \n",
       "2 Y                 Y                   N          \n",
       "3 Y                 Y                   N          \n",
       "4 Y                 N                   N          \n",
       "5 Y                 N                   N          \n",
       "6 Y                 Y                   N          "
      ]
     },
     "metadata": {},
     "output_type": "display_data"
    }
   ],
   "source": [
    "oswego %>%\n",
    "  head()"
   ]
  },
  {
   "cell_type": "code",
   "execution_count": 108,
   "metadata": {},
   "outputs": [
    {
     "name": "stderr",
     "output_type": "stream",
     "text": [
      "Warning message:\n",
      "“ 29 failed to parse.”Warning message:\n",
      "“ 29 failed to parse.”"
     ]
    }
   ],
   "source": [
    "oswego1 <- oswego %>%\n",
    "   select(age: fruit.salad)\n",
    "library(lubridate)\n",
    "# head(oswego1)\n",
    "\n",
    "\n",
    "\n",
    "oswego2 <- oswego1\n",
    "oswego2$onset_date_time <- paste(oswego2$onset.date, '2018',\n",
    "                                oswego2$onset.time, sep=\" \")\n",
    "oswego2$onset_date <- paste(oswego2$onset.date, '18', sep = '/')\n",
    "oswego2$onset_dt <- mdy(oswego2$onset_date)\n",
    "oswego2$onset_hh <- hour(parse_date_time(oswego2$onset.time, \n",
    "                                   '%I:%M: %p'))\n",
    "oswego2$onset_mm <- minute(parse_date_time(oswego2$onset.time,\n",
    "                                          '%I:%M:5p'))\n",
    "oswego2$onset_hm <- paste(oswego2$onset_hh,\n",
    "                         oswego2$onset_mm, sep=\":\")\n",
    "oswego2$onset_dhm <- paste(oswego2$onset_dt, oswego2$onset_hm)\n",
    "#oswego2$onset_dttm <- paste(oswego2$onset_dt, oswego2$onset.time)\n",
    "oswego2$onset_dtm <- ymd_hm(oswego2$onset_dhm)"
   ]
  },
  {
   "cell_type": "code",
   "execution_count": 109,
   "metadata": {},
   "outputs": [
    {
     "name": "stderr",
     "output_type": "stream",
     "text": [
      "Warning message:\n",
      "“ 48 failed to parse.”"
     ]
    },
    {
     "name": "stdout",
     "output_type": "stream",
     "text": [
      "'data.frame':\t75 obs. of  35 variables:\n",
      " $ age                : int  52 65 59 63 70 40 15 33 10 32 ...\n",
      " $ sex                : chr  \"F\" \"M\" \"F\" \"F\" ...\n",
      " $ meal.time          : chr  \"8:00 PM\" \"6:30 PM\" \"6:30 PM\" \"7:30 PM\" ...\n",
      " $ ill                : chr  \"Y\" \"Y\" \"Y\" \"Y\" ...\n",
      " $ onset.date         : chr  \"4/19\" \"4/19\" \"4/19\" \"4/18\" ...\n",
      " $ onset.time         : chr  \"12:30 AM\" \"12:30 AM\" \"12:30 AM\" \"10:30 PM\" ...\n",
      " $ baked.ham          : chr  \"Y\" \"Y\" \"Y\" \"Y\" ...\n",
      " $ spinach            : chr  \"Y\" \"Y\" \"Y\" \"Y\" ...\n",
      " $ mashed.potato      : chr  \"Y\" \"Y\" \"N\" \"N\" ...\n",
      " $ cabbage.salad      : chr  \"N\" \"Y\" \"N\" \"Y\" ...\n",
      " $ jello              : chr  \"N\" \"N\" \"N\" \"Y\" ...\n",
      " $ rolls              : chr  \"Y\" \"N\" \"N\" \"N\" ...\n",
      " $ brown.bread        : chr  \"N\" \"N\" \"N\" \"N\" ...\n",
      " $ milk               : chr  \"N\" \"N\" \"N\" \"N\" ...\n",
      " $ coffee             : chr  \"Y\" \"Y\" \"Y\" \"N\" ...\n",
      " $ water              : chr  \"N\" \"N\" \"N\" \"Y\" ...\n",
      " $ cakes              : chr  \"N\" \"N\" \"Y\" \"N\" ...\n",
      " $ vanilla.ice.cream  : chr  \"Y\" \"Y\" \"Y\" \"Y\" ...\n",
      " $ chocolate.ice.cream: chr  \"N\" \"Y\" \"Y\" \"N\" ...\n",
      " $ fruit.salad        : chr  \"N\" \"N\" \"N\" \"N\" ...\n",
      " $ onset_date_time    : chr  \"4/19 2018 12:30 AM\" \"4/19 2018 12:30 AM\" \"4/19 2018 12:30 AM\" \"4/18 2018 10:30 PM\" ...\n",
      " $ onset_date         : chr  \"4/19/18\" \"4/19/18\" \"4/19/18\" \"4/18/18\" ...\n",
      " $ onset_dt           : Date, format: \"2018-04-19\" \"2018-04-19\" ...\n",
      " $ onset_hh           : int  0 0 0 22 22 2 1 23 2 10 ...\n",
      " $ onset_mm           : int  30 30 30 30 30 0 0 0 0 30 ...\n",
      " $ onset_hm           : chr  \"0:30\" \"0:30\" \"0:30\" \"22:30\" ...\n",
      " $ onset_dhm          : chr  \"2018-04-19 0:30\" \"2018-04-19 0:30\" \"2018-04-19 0:30\" \"2018-04-18 22:30\" ...\n",
      " $ onset_dtm          : POSIXct, format: \"2018-04-19 00:30:00\" \"2018-04-19 00:30:00\" ...\n",
      " $ supper_date        : chr  \"2018-04-18\" \"2018-04-18\" \"2018-04-18\" \"2018-04-18\" ...\n",
      " $ meal_hr            : int  20 18 18 19 19 19 22 19 19 NA ...\n",
      " $ meal_mm            : int  0 30 30 30 30 30 0 0 30 NA ...\n",
      " $ meal_hm            : chr  \"20:0\" \"18:30\" \"18:30\" \"19:30\" ...\n",
      " $ meal_dhm           : chr  \"2018-04-18 20:0\" \"2018-04-18 18:30\" \"2018-04-18 18:30\" \"2018-04-18 19:30\" ...\n",
      " $ meal_dtm           : POSIXct, format: \"2018-04-18 20:00:00\" \"2018-04-18 18:30:00\" ...\n",
      " $ incubation         : 'difftime' num  4.5 6 6 3 ...\n",
      "  ..- attr(*, \"units\")= chr \"hours\"\n"
     ]
    },
    {
     "data": {
      "text/html": [
       "<table>\n",
       "<caption>A data.frame: 4 × 2</caption>\n",
       "<thead>\n",
       "\t<tr><th scope=col>incubation</th><th scope=col>hours</th></tr>\n",
       "\t<tr><th scope=col>&lt;chr&gt;</th><th scope=col>&lt;drtn&gt;</th></tr>\n",
       "</thead>\n",
       "<tbody>\n",
       "\t<tr><td>mean_incub  </td><td>4.295455 hours</td></tr>\n",
       "\t<tr><td>median_incub</td><td>4.000000 hours</td></tr>\n",
       "\t<tr><td>min_incub   </td><td>3.000000 hours</td></tr>\n",
       "\t<tr><td>max_incub   </td><td>7.000000 hours</td></tr>\n",
       "</tbody>\n",
       "</table>\n"
      ],
      "text/latex": [
       "A data.frame: 4 × 2\n",
       "\\begin{tabular}{r|ll}\n",
       " incubation & hours\\\\\n",
       " <chr> & <drtn>\\\\\n",
       "\\hline\n",
       "\t mean\\_incub   & 4.295455 hours\\\\\n",
       "\t median\\_incub & 4.000000 hours\\\\\n",
       "\t min\\_incub    & 3.000000 hours\\\\\n",
       "\t max\\_incub    & 7.000000 hours\\\\\n",
       "\\end{tabular}\n"
      ],
      "text/markdown": [
       "\n",
       "A data.frame: 4 × 2\n",
       "\n",
       "| incubation &lt;chr&gt; | hours &lt;drtn&gt; |\n",
       "|---|---|\n",
       "| mean_incub   | 4.295455 hours |\n",
       "| median_incub | 4.000000 hours |\n",
       "| min_incub    | 3.000000 hours |\n",
       "| max_incub    | 7.000000 hours |\n",
       "\n"
      ],
      "text/plain": [
       "  incubation   hours         \n",
       "1 mean_incub   4.295455 hours\n",
       "2 median_incub 4.000000 hours\n",
       "3 min_incub    3.000000 hours\n",
       "4 max_incub    7.000000 hours"
      ]
     },
     "metadata": {},
     "output_type": "display_data"
    }
   ],
   "source": [
    "oswego2$supper_date <- rep(\"2018-04-18\", length(oswego2$age))\n",
    "\n",
    "oswego2$meal_hr <- hour(parse_date_time(oswego2$meal.time,\n",
    "                                       '%I:%M:%p'))\n",
    "oswego2$meal_mm <- minute(parse_date_time(oswego2$meal.time,\n",
    "                                         '%I:%M:%p'))\n",
    "oswego2$meal_hm <- paste(oswego2$meal_hr, oswego2$meal_mm,\n",
    "                        sep = \":\")\n",
    "oswego2$meal_dhm <- paste(oswego2$supper_date,\n",
    "                         oswego2$meal_hm)\n",
    "oswego2$meal_dtm <- ymd_hm(oswego2$meal_dhm)\n",
    "\n",
    "oswego2$incubation <- oswego2$onset_dtm - oswego2$meal_dtm\n",
    "\n",
    "str(oswego2)     \n",
    "\n",
    "summary_data <- oswego2 %>%\n",
    "                 summarise(mean_incub = mean(incubation, na.rm = T),\n",
    "                          median_incub = median(incubation, na.rm = T),\n",
    "                          min_incub = min(incubation, na.rm = T),\n",
    "                          max_incub = max(incubation, na.rm = T)) %>%\n",
    "                 gather(mean_incub:max_incub, key = \"incubation\", value = 'hours')\n",
    "\n",
    "summary_data"
   ]
  },
  {
   "cell_type": "code",
   "execution_count": 160,
   "metadata": {},
   "outputs": [
    {
     "data": {
      "text/html": [
       "<table>\n",
       "<caption>A tibble: 2 × 2</caption>\n",
       "<thead>\n",
       "\t<tr><th scope=col>ill</th><th scope=col>n</th></tr>\n",
       "\t<tr><th scope=col>&lt;chr&gt;</th><th scope=col>&lt;int&gt;</th></tr>\n",
       "</thead>\n",
       "<tbody>\n",
       "\t<tr><td>N</td><td>29</td></tr>\n",
       "\t<tr><td>Y</td><td>46</td></tr>\n",
       "</tbody>\n",
       "</table>\n"
      ],
      "text/latex": [
       "A tibble: 2 × 2\n",
       "\\begin{tabular}{r|ll}\n",
       " ill & n\\\\\n",
       " <chr> & <int>\\\\\n",
       "\\hline\n",
       "\t N & 29\\\\\n",
       "\t Y & 46\\\\\n",
       "\\end{tabular}\n"
      ],
      "text/markdown": [
       "\n",
       "A tibble: 2 × 2\n",
       "\n",
       "| ill &lt;chr&gt; | n &lt;int&gt; |\n",
       "|---|---|\n",
       "| N | 29 |\n",
       "| Y | 46 |\n",
       "\n"
      ],
      "text/plain": [
       "  ill n \n",
       "1 N   29\n",
       "2 Y   46"
      ]
     },
     "metadata": {},
     "output_type": "display_data"
    },
    {
     "data": {
      "text/html": [
       "<table>\n",
       "<caption>A tibble: 2 × 4</caption>\n",
       "<thead>\n",
       "\t<tr><th scope=col>baked.ham</th><th scope=col>N</th><th scope=col>Y</th><th scope=col>odds_ratio</th></tr>\n",
       "\t<tr><th scope=col>&lt;chr&gt;</th><th scope=col>&lt;int&gt;</th><th scope=col>&lt;int&gt;</th><th scope=col>&lt;dbl&gt;</th></tr>\n",
       "</thead>\n",
       "<tbody>\n",
       "\t<tr><td>N</td><td>12</td><td>17</td><td>0.8304598</td></tr>\n",
       "\t<tr><td>Y</td><td>17</td><td>29</td><td>1.2041522</td></tr>\n",
       "</tbody>\n",
       "</table>\n"
      ],
      "text/latex": [
       "A tibble: 2 × 4\n",
       "\\begin{tabular}{r|llll}\n",
       " baked.ham & N & Y & odds\\_ratio\\\\\n",
       " <chr> & <int> & <int> & <dbl>\\\\\n",
       "\\hline\n",
       "\t N & 12 & 17 & 0.8304598\\\\\n",
       "\t Y & 17 & 29 & 1.2041522\\\\\n",
       "\\end{tabular}\n"
      ],
      "text/markdown": [
       "\n",
       "A tibble: 2 × 4\n",
       "\n",
       "| baked.ham &lt;chr&gt; | N &lt;int&gt; | Y &lt;int&gt; | odds_ratio &lt;dbl&gt; |\n",
       "|---|---|---|---|\n",
       "| N | 12 | 17 | 0.8304598 |\n",
       "| Y | 17 | 29 | 1.2041522 |\n",
       "\n"
      ],
      "text/plain": [
       "  baked.ham N  Y  odds_ratio\n",
       "1 N         12 17 0.8304598 \n",
       "2 Y         17 29 1.2041522 "
      ]
     },
     "metadata": {},
     "output_type": "display_data"
    },
    {
     "data": {
      "text/html": [
       "<table>\n",
       "<caption>A tibble: 2 × 4</caption>\n",
       "<thead>\n",
       "\t<tr><th scope=col>spinach</th><th scope=col>N</th><th scope=col>Y</th><th scope=col>odds_ratio</th></tr>\n",
       "\t<tr><th scope=col>&lt;chr&gt;</th><th scope=col>&lt;int&gt;</th><th scope=col>&lt;int&gt;</th><th scope=col>&lt;dbl&gt;</th></tr>\n",
       "</thead>\n",
       "<tbody>\n",
       "\t<tr><td>N</td><td>12</td><td>20</td><td>1.0897436</td></tr>\n",
       "\t<tr><td>Y</td><td>17</td><td>26</td><td>0.9176471</td></tr>\n",
       "</tbody>\n",
       "</table>\n"
      ],
      "text/latex": [
       "A tibble: 2 × 4\n",
       "\\begin{tabular}{r|llll}\n",
       " spinach & N & Y & odds\\_ratio\\\\\n",
       " <chr> & <int> & <int> & <dbl>\\\\\n",
       "\\hline\n",
       "\t N & 12 & 20 & 1.0897436\\\\\n",
       "\t Y & 17 & 26 & 0.9176471\\\\\n",
       "\\end{tabular}\n"
      ],
      "text/markdown": [
       "\n",
       "A tibble: 2 × 4\n",
       "\n",
       "| spinach &lt;chr&gt; | N &lt;int&gt; | Y &lt;int&gt; | odds_ratio &lt;dbl&gt; |\n",
       "|---|---|---|---|\n",
       "| N | 12 | 20 | 1.0897436 |\n",
       "| Y | 17 | 26 | 0.9176471 |\n",
       "\n"
      ],
      "text/plain": [
       "  spinach N  Y  odds_ratio\n",
       "1 N       12 20 1.0897436 \n",
       "2 Y       17 26 0.9176471 "
      ]
     },
     "metadata": {},
     "output_type": "display_data"
    },
    {
     "data": {
      "text/html": [
       "<table>\n",
       "<caption>A tibble: 2 × 4</caption>\n",
       "<thead>\n",
       "\t<tr><th scope=col>vanilla.ice.cream</th><th scope=col>N</th><th scope=col>Y</th><th scope=col>odds_ratio</th></tr>\n",
       "\t<tr><th scope=col>&lt;chr&gt;</th><th scope=col>&lt;int&gt;</th><th scope=col>&lt;int&gt;</th><th scope=col>&lt;dbl&gt;</th></tr>\n",
       "</thead>\n",
       "<tbody>\n",
       "\t<tr><td>N</td><td>18</td><td> 3</td><td> 0.04263566</td></tr>\n",
       "\t<tr><td>Y</td><td>11</td><td>43</td><td>23.45454545</td></tr>\n",
       "</tbody>\n",
       "</table>\n"
      ],
      "text/latex": [
       "A tibble: 2 × 4\n",
       "\\begin{tabular}{r|llll}\n",
       " vanilla.ice.cream & N & Y & odds\\_ratio\\\\\n",
       " <chr> & <int> & <int> & <dbl>\\\\\n",
       "\\hline\n",
       "\t N & 18 &  3 &  0.04263566\\\\\n",
       "\t Y & 11 & 43 & 23.45454545\\\\\n",
       "\\end{tabular}\n"
      ],
      "text/markdown": [
       "\n",
       "A tibble: 2 × 4\n",
       "\n",
       "| vanilla.ice.cream &lt;chr&gt; | N &lt;int&gt; | Y &lt;int&gt; | odds_ratio &lt;dbl&gt; |\n",
       "|---|---|---|---|\n",
       "| N | 18 |  3 |  0.04263566 |\n",
       "| Y | 11 | 43 | 23.45454545 |\n",
       "\n"
      ],
      "text/plain": [
       "  vanilla.ice.cream N  Y  odds_ratio \n",
       "1 N                 18  3  0.04263566\n",
       "2 Y                 11 43 23.45454545"
      ]
     },
     "metadata": {},
     "output_type": "display_data"
    },
    {
     "data": {
      "text/html": [
       "<table>\n",
       "<caption>A tibble: 2 × 4</caption>\n",
       "<thead>\n",
       "\t<tr><th scope=col>chocolate.ice.cream</th><th scope=col>N</th><th scope=col>Y</th><th scope=col>odds_ratio</th></tr>\n",
       "\t<tr><th scope=col>&lt;chr&gt;</th><th scope=col>&lt;int&gt;</th><th scope=col>&lt;int&gt;</th><th scope=col>&lt;dbl&gt;</th></tr>\n",
       "</thead>\n",
       "<tbody>\n",
       "\t<tr><td>N</td><td> 7</td><td>20</td><td>2.5142857</td></tr>\n",
       "\t<tr><td>Y</td><td>22</td><td>25</td><td>0.3977273</td></tr>\n",
       "</tbody>\n",
       "</table>\n"
      ],
      "text/latex": [
       "A tibble: 2 × 4\n",
       "\\begin{tabular}{r|llll}\n",
       " chocolate.ice.cream & N & Y & odds\\_ratio\\\\\n",
       " <chr> & <int> & <int> & <dbl>\\\\\n",
       "\\hline\n",
       "\t N &  7 & 20 & 2.5142857\\\\\n",
       "\t Y & 22 & 25 & 0.3977273\\\\\n",
       "\\end{tabular}\n"
      ],
      "text/markdown": [
       "\n",
       "A tibble: 2 × 4\n",
       "\n",
       "| chocolate.ice.cream &lt;chr&gt; | N &lt;int&gt; | Y &lt;int&gt; | odds_ratio &lt;dbl&gt; |\n",
       "|---|---|---|---|\n",
       "| N |  7 | 20 | 2.5142857 |\n",
       "| Y | 22 | 25 | 0.3977273 |\n",
       "\n"
      ],
      "text/plain": [
       "  chocolate.ice.cream N  Y  odds_ratio\n",
       "1 N                    7 20 2.5142857 \n",
       "2 Y                   22 25 0.3977273 "
      ]
     },
     "metadata": {},
     "output_type": "display_data"
    },
    {
     "data": {
      "text/html": [
       "0.586206896551724"
      ],
      "text/latex": [
       "0.586206896551724"
      ],
      "text/markdown": [
       "0.586206896551724"
      ],
      "text/plain": [
       "[1] 0.5862069"
      ]
     },
     "metadata": {},
     "output_type": "display_data"
    },
    {
     "data": {
      "text/html": [
       "0.226666666666667"
      ],
      "text/latex": [
       "0.226666666666667"
      ],
      "text/markdown": [
       "0.226666666666667"
      ],
      "text/plain": [
       "[1] 0.2266667"
      ]
     },
     "metadata": {},
     "output_type": "display_data"
    },
    {
     "data": {
      "text/html": [
       "1.20415224913495"
      ],
      "text/latex": [
       "1.20415224913495"
      ],
      "text/markdown": [
       "1.20415224913495"
      ],
      "text/plain": [
       "[1] 1.204152"
      ]
     },
     "metadata": {},
     "output_type": "display_data"
    },
    {
     "data": {
      "text/html": [
       "1.20567375886525"
      ],
      "text/latex": [
       "1.20567375886525"
      ],
      "text/markdown": [
       "1.20567375886525"
      ],
      "text/plain": [
       "[1] 1.205674"
      ]
     },
     "metadata": {},
     "output_type": "display_data"
    }
   ],
   "source": [
    "ill <- oswego2 %>%\n",
    "  count(ill)\n",
    "\n",
    "baked_ham <- oswego2 %>%\n",
    "  count(baked.ham, ill) %>%\n",
    "  spread(key = ill, value = n) %>%\n",
    "  mutate(prop_y = Y / sum(Y),\n",
    "         prop_n = N / sum(N),\n",
    "         odds_y = prop_y / (1 - prop_y),\n",
    "         odds_n = prop_n / (1 - prop_n),\n",
    "        odds_ratio = odds_y / odds_n) %>%\n",
    "  select(baked.ham, N, Y, odds_ratio)\n",
    "\n",
    "spinach <- oswego2 %>%\n",
    "  count(spinach, ill) %>%\n",
    "  spread(key = ill, value = n) %>%\n",
    "  mutate(prop_y = Y / sum(Y),\n",
    "         prop_n = N / sum(N),\n",
    "         odds_y = prop_y / (1 - prop_y),\n",
    "         odds_n = prop_n / (1 - prop_n),\n",
    "        odds_ratio = odds_y / odds_n) %>%\n",
    "  select(spinach, N, Y, odds_ratio)\n",
    "        \n",
    "        \n",
    "vanilla_ice <- oswego2 %>% \n",
    "  count(vanilla.ice.cream, ill) %>%\n",
    "  spread(key = ill, value = n) %>%\n",
    "  mutate(prop_y = Y / sum(Y),\n",
    "         prop_n = N / sum(N),\n",
    "         odds_y = prop_y / (1 - prop_y),\n",
    "         odds_n = prop_n / (1 - prop_n),\n",
    "        odds_ratio = odds_y / odds_n) %>%\n",
    "  select(vanilla.ice.cream, N, Y, odds_ratio)\n",
    "\n",
    "choc_ice <- oswego2 %>% \n",
    "  count(chocolate.ice.cream, ill) %>%\n",
    "  spread(key = ill, value = n) \n",
    "choc_ice <- choc_ice[complete.cases(choc_ice),] %>%\n",
    "  mutate(prop_y = Y / sum(Y),\n",
    "         prop_n = N / sum(N),\n",
    "         odds_y = prop_y / (1 - prop_y),\n",
    "         odds_n = prop_n / (1 - prop_n),\n",
    "        odds_ratio = odds_y / odds_n) %>%\n",
    "  select(chocolate.ice.cream, N, Y, odds_ratio)\n",
    "   \n",
    "\n",
    "ill\n",
    "baked_ham\n",
    "spinach\n",
    "vanilla_ice\n",
    "choc_ice\n",
    "17/29\n",
    "17/75\n",
    "29 * 12 / (17 * 17)\n",
    "1.70 / 1.41\n"
   ]
  },
  {
   "cell_type": "code",
   "execution_count": 96,
   "metadata": {},
   "outputs": [
    {
     "name": "stdout",
     "output_type": "stream",
     "text": [
      "'data.frame':\t22 obs. of  35 variables:\n",
      " $ age                : int  52 65 59 63 70 40 15 33 10 13 ...\n",
      " $ sex                : chr  \"F\" \"M\" \"F\" \"F\" ...\n",
      " $ meal.time          : chr  \"8:00 PM\" \"6:30 PM\" \"6:30 PM\" \"7:30 PM\" ...\n",
      " $ ill                : chr  \"Y\" \"Y\" \"Y\" \"Y\" ...\n",
      " $ onset.date         : chr  \"4/19\" \"4/19\" \"4/19\" \"4/18\" ...\n",
      " $ onset.time         : chr  \"12:30 AM\" \"12:30 AM\" \"12:30 AM\" \"10:30 PM\" ...\n",
      " $ baked.ham          : chr  \"Y\" \"Y\" \"Y\" \"Y\" ...\n",
      " $ spinach            : chr  \"Y\" \"Y\" \"Y\" \"Y\" ...\n",
      " $ mashed.potato      : chr  \"Y\" \"Y\" \"N\" \"N\" ...\n",
      " $ cabbage.salad      : chr  \"N\" \"Y\" \"N\" \"Y\" ...\n",
      " $ jello              : chr  \"N\" \"N\" \"N\" \"Y\" ...\n",
      " $ rolls              : chr  \"Y\" \"N\" \"N\" \"N\" ...\n",
      " $ brown.bread        : chr  \"N\" \"N\" \"N\" \"N\" ...\n",
      " $ milk               : chr  \"N\" \"N\" \"N\" \"N\" ...\n",
      " $ coffee             : chr  \"Y\" \"Y\" \"Y\" \"N\" ...\n",
      " $ water              : chr  \"N\" \"N\" \"N\" \"Y\" ...\n",
      " $ cakes              : chr  \"N\" \"N\" \"Y\" \"N\" ...\n",
      " $ vanilla.ice.cream  : chr  \"Y\" \"Y\" \"Y\" \"Y\" ...\n",
      " $ chocolate.ice.cream: chr  \"N\" \"Y\" \"Y\" \"N\" ...\n",
      " $ fruit.salad        : chr  \"N\" \"N\" \"N\" \"N\" ...\n",
      " $ onset_date_time    : chr  \"4/19 2018 12:30 AM\" \"4/19 2018 12:30 AM\" \"4/19 2018 12:30 AM\" \"4/18 2018 10:30 PM\" ...\n",
      " $ onset_date         : chr  \"4/19/18\" \"4/19/18\" \"4/19/18\" \"4/18/18\" ...\n",
      " $ onset_dt           : Date, format: \"2018-04-19\" \"2018-04-19\" ...\n",
      " $ onset_hh           : int  0 0 0 22 22 2 1 23 2 1 ...\n",
      " $ onset_mm           : int  30 30 30 30 30 0 0 0 0 0 ...\n",
      " $ onset_hm           : chr  \"0:30\" \"0:30\" \"0:30\" \"22:30\" ...\n",
      " $ onset_dhm          : chr  \"2018-04-19 0:30\" \"2018-04-19 0:30\" \"2018-04-19 0:30\" \"2018-04-18 22:30\" ...\n",
      " $ onset_dtm          : POSIXct, format: \"2018-04-19 00:30:00\" \"2018-04-19 00:30:00\" ...\n",
      " $ supper_date        : chr  \"2018-04-18\" \"2018-04-18\" \"2018-04-18\" \"2018-04-18\" ...\n",
      " $ meal_hr            : int  20 18 18 19 19 19 22 19 19 22 ...\n",
      " $ meal_mm            : int  0 30 30 30 30 30 0 0 30 0 ...\n",
      " $ meal_hm            : chr  \"20:0\" \"18:30\" \"18:30\" \"19:30\" ...\n",
      " $ meal_dhm           : chr  \"2018-04-18 20:0\" \"2018-04-18 18:30\" \"2018-04-18 18:30\" \"2018-04-18 19:30\" ...\n",
      " $ meal_dtm           : POSIXct, format: \"2018-04-18 20:00:00\" \"2018-04-18 18:30:00\" ...\n",
      " $ incubation         : 'difftime' num  4.5 6 6 3 ...\n",
      "  ..- attr(*, \"units\")= chr \"hours\"\n"
     ]
    },
    {
     "name": "stderr",
     "output_type": "stream",
     "text": [
      "Don't know how to automatically pick scale for object of type difftime. Defaulting to continuous.\n"
     ]
    },
    {
     "data": {
      "image/png": "[encoded data removed]",
      "text/plain": [
       "plot without title"
      ]
     },
     "metadata": {},
     "output_type": "display_data"
    }
   ],
   "source": [
    "oswego2 %>%\n",
    "  ggplot(aes(incubation)) +\n",
    "  geom_bar()"
   ]
  },
  {
   "cell_type": "code",
   "execution_count": 83,
   "metadata": {},
   "outputs": [
    {
     "name": "stderr",
     "output_type": "stream",
     "text": [
      "Saving 6.67 x 6.67 in image\n"
     ]
    },
    {
     "data": {
      "image/png": "[encoded data removed]",
      "text/plain": [
       "plot without title"
      ]
     },
     "metadata": {},
     "output_type": "display_data"
    }
   ],
   "source": [
    "  ggplot(oswego2, aes(onset_dtm)) +\n",
    "  geom_bar() +\n",
    "  labs(x = \"Time in hours\",\n",
    "      y = \"Count Ill\",\n",
    "      title = \"Time through outbreak\") +\n",
    "  theme_bw() +\n",
    "  ggsave(\"outbreak1.png\")\n"
   ]
  },
  {
   "cell_type": "code",
   "execution_count": 2,
   "metadata": {},
   "outputs": [],
   "source": [
    "library(epitools)"
   ]
  },
  {
   "cell_type": "code",
   "execution_count": 3,
   "metadata": {},
   "outputs": [
    {
     "data": {
      "text/html": [
       "<h3>Data sets</h3>\n",
       "<table>\n",
       "<caption>A data.frame: 3 × 3</caption>\n",
       "<thead>\n",
       "\t<tr><th scope=col>Package</th><th scope=col>Item</th><th scope=col>Title</th></tr>\n",
       "\t<tr><th scope=col>&lt;chr&gt;</th><th scope=col>&lt;chr&gt;</th><th scope=col>&lt;chr&gt;</th></tr>\n",
       "</thead>\n",
       "<tbody>\n",
       "\t<tr><td>epitools</td><td>oswego</td><td>Outbreak of Gastrointestinal Illness in Oswego County, 1940                     </td></tr>\n",
       "\t<tr><td>epitools</td><td>wcgs  </td><td>Western Collaborative Group Study data                                          </td></tr>\n",
       "\t<tr><td>epitools</td><td>wnv   </td><td>West Nile Virus human cases reported in California, USA, as of December 14, 2004</td></tr>\n",
       "</tbody>\n",
       "</table>\n",
       "\n"
      ],
      "text/plain": [
       "Data sets in package ‘epitools’:\n",
       "\n",
       "oswego                  Outbreak of Gastrointestinal Illness in Oswego\n",
       "                        County, 1940\n",
       "wcgs                    Western Collaborative Group Study data\n",
       "wnv                     West Nile Virus human cases reported in\n",
       "                        California, USA, as of December 14, 2004"
      ]
     },
     "metadata": {},
     "output_type": "display_data"
    }
   ],
   "source": [
    "data(package = 'epitools')"
   ]
  },
  {
   "cell_type": "code",
   "execution_count": 4,
   "metadata": {},
   "outputs": [],
   "source": [
    "data(oswego)"
   ]
  },
  {
   "cell_type": "code",
   "execution_count": 5,
   "metadata": {},
   "outputs": [
    {
     "name": "stderr",
     "output_type": "stream",
     "text": [
      "── \u001b[1mAttaching packages\u001b[22m ─────────────────────────────────────── tidyverse 1.2.1 ──\n",
      "\u001b[32m✔\u001b[39m \u001b[34mggplot2\u001b[39m 3.2.0     \u001b[32m✔\u001b[39m \u001b[34mpurrr  \u001b[39m 0.3.2\n",
      "\u001b[32m✔\u001b[39m \u001b[34mtibble \u001b[39m 2.1.3     \u001b[32m✔\u001b[39m \u001b[34mdplyr  \u001b[39m 0.8.3\n",
      "\u001b[32m✔\u001b[39m \u001b[34mtidyr  \u001b[39m 0.8.3     \u001b[32m✔\u001b[39m \u001b[34mstringr\u001b[39m 1.4.0\n",
      "\u001b[32m✔\u001b[39m \u001b[34mreadr  \u001b[39m 1.3.1     \u001b[32m✔\u001b[39m \u001b[34mforcats\u001b[39m 0.4.0\n",
      "── \u001b[1mConflicts\u001b[22m ────────────────────────────────────────── tidyverse_conflicts() ──\n",
      "\u001b[31m✖\u001b[39m \u001b[34mdplyr\u001b[39m::\u001b[32mfilter()\u001b[39m masks \u001b[34mstats\u001b[39m::filter()\n",
      "\u001b[31m✖\u001b[39m \u001b[34mdplyr\u001b[39m::\u001b[32mlag()\u001b[39m    masks \u001b[34mstats\u001b[39m::lag()\n"
     ]
    }
   ],
   "source": [
    "library(tidyverse)"
   ]
  },
  {
   "cell_type": "code",
   "execution_count": 8,
   "metadata": {},
   "outputs": [],
   "source": [
    "oswego %>% \n",
    "  write_csv(path=\"outbreak.csv\")"
   ]
  },
  {
   "cell_type": "code",
   "execution_count": 7,
   "metadata": {},
   "outputs": [
    {
     "data": {
      "text/html": [
       "\n",
       "<table width=\"100%\" summary=\"page for write_delim {readr}\"><tr><td>write_delim {readr}</td><td style=\"text-align: right;\">R Documentation</td></tr></table>\n",
       "\n",
       "<h2>Write a data frame to a delimited file</h2>\n",
       "\n",
       "<h3>Description</h3>\n",
       "\n",
       "<p>This is about twice as fast as <code>write.csv()</code>, and never\n",
       "writes row names. <code>output_column()</code> is a generic method used to coerce\n",
       "columns to suitable output.\n",
       "</p>\n",
       "\n",
       "\n",
       "<h3>Usage</h3>\n",
       "\n",
       "<pre>\n",
       "write_delim(x, path, delim = \" \", na = \"NA\", append = FALSE,\n",
       "  col_names = !append, quote_escape = \"double\")\n",
       "\n",
       "write_csv(x, path, na = \"NA\", append = FALSE, col_names = !append,\n",
       "  quote_escape = \"double\")\n",
       "\n",
       "write_csv2(x, path, na = \"NA\", append = FALSE, col_names = !append,\n",
       "  quote_escape = \"double\")\n",
       "\n",
       "write_excel_csv(x, path, na = \"NA\", append = FALSE,\n",
       "  col_names = !append, delim = \",\", quote_escape = \"double\")\n",
       "\n",
       "write_excel_csv2(x, path, na = \"NA\", append = FALSE,\n",
       "  col_names = !append, delim = \";\", quote_escape = \"double\")\n",
       "\n",
       "write_tsv(x, path, na = \"NA\", append = FALSE, col_names = !append,\n",
       "  quote_escape = \"double\")\n",
       "</pre>\n",
       "\n",
       "\n",
       "<h3>Arguments</h3>\n",
       "\n",
       "<table summary=\"R argblock\">\n",
       "<tr valign=\"top\"><td><code>x</code></td>\n",
       "<td>\n",
       "<p>A data frame to write to disk</p>\n",
       "</td></tr>\n",
       "<tr valign=\"top\"><td><code>path</code></td>\n",
       "<td>\n",
       "<p>Path or connection to write to.</p>\n",
       "</td></tr>\n",
       "<tr valign=\"top\"><td><code>delim</code></td>\n",
       "<td>\n",
       "<p>Delimiter used to separate values. Defaults to <code>\" \"</code> for <code>write_delim()</code>, <code>\",\"</code> for <code>write_excel_csv()</code> and\n",
       "<code>\";\"</code> for <code>write_excel_csv2()</code>. Must be a single character.</p>\n",
       "</td></tr>\n",
       "<tr valign=\"top\"><td><code>na</code></td>\n",
       "<td>\n",
       "<p>String used for missing values. Defaults to NA. Missing values\n",
       "will never be quoted; strings with the same value as <code>na</code> will\n",
       "always be quoted.</p>\n",
       "</td></tr>\n",
       "<tr valign=\"top\"><td><code>append</code></td>\n",
       "<td>\n",
       "<p>If <code>FALSE</code>, will overwrite existing file. If <code>TRUE</code>,\n",
       "will append to existing file. In both cases, if file does not exist a new\n",
       "file is created.</p>\n",
       "</td></tr>\n",
       "<tr valign=\"top\"><td><code>col_names</code></td>\n",
       "<td>\n",
       "<p>Write columns names at the top of the file? Must be either\n",
       "<code>TRUE</code> or <code>FALSE</code>.</p>\n",
       "</td></tr>\n",
       "<tr valign=\"top\"><td><code>quote_escape</code></td>\n",
       "<td>\n",
       "<p>The type of escaping to use for quoted values, one of\n",
       "&quot;double&quot;, &quot;backslash&quot; or &quot;none&quot;. You can also use <code>FALSE</code>, which is\n",
       "equivalent to &quot;none&quot;. The default is to double the quotes, which is the\n",
       "format excel expects.</p>\n",
       "</td></tr>\n",
       "</table>\n",
       "\n",
       "\n",
       "<h3>Value</h3>\n",
       "\n",
       "<p><code>write_*()</code> returns the input <code>x</code> invisibly.\n",
       "</p>\n",
       "\n",
       "\n",
       "<h3>Output</h3>\n",
       "\n",
       "<p>Factors are coerced to character. Doubles are formatted using the grisu3\n",
       "algorithm. POSIXct's are formatted as ISO8601 with a UTC timezone <em>Note:\n",
       "<code>POSIXct</code> objects in local or non-UTC timezones will be converted to UTC time\n",
       "before writing.</em>\n",
       "</p>\n",
       "<p>All columns are encoded as UTF-8. <code>write_excel_csv()</code> and <code>write_excel_csv2()</code> also include a\n",
       "<a href=\"https://en.wikipedia.org/wiki/Byte_order_mark\">UTF-8 Byte order mark</a>\n",
       "which indicates to Excel the csv is UTF-8 encoded.\n",
       "</p>\n",
       "<p><code>write_excel_csv2()</code> and <code>write_csv2</code> were created to allow users with\n",
       "different locale settings save csv files with their default settings <code>;</code> as\n",
       "column separator and <code>,</code> as decimal separator. This is common in some European countries.\n",
       "</p>\n",
       "<p>Values are only quoted if needed: if they contain a comma, quote or newline.\n",
       "</p>\n",
       "<p>The <code>write_*()</code> functions will automatically compress outputs if an appropriate extension is given. At present, three\n",
       "extensions are supported, <code>.gz</code> for gzip compression, <code>.bz2</code> for bzip2 compression and <code>.xz</code> for lzma compression.  See\n",
       "the examples for more information.\n",
       "</p>\n",
       "\n",
       "\n",
       "<h3>References</h3>\n",
       "\n",
       "<p>Florian Loitsch, Printing Floating-Point Numbers Quickly and\n",
       "Accurately with Integers, PLDI '10,\n",
       "<a href=\"http://www.cs.tufts.edu/~nr/cs257/archive/florian-loitsch/printf.pdf\">http://www.cs.tufts.edu/~nr/cs257/archive/florian-loitsch/printf.pdf</a>\n",
       "</p>\n",
       "\n",
       "\n",
       "<h3>Examples</h3>\n",
       "\n",
       "<pre>\n",
       "tmp &lt;- tempfile()\n",
       "write_csv(mtcars, tmp)\n",
       "head(read_csv(tmp))\n",
       "\n",
       "# format_* is useful for testing and reprexes\n",
       "cat(format_csv(head(mtcars)))\n",
       "cat(format_tsv(head(mtcars)))\n",
       "cat(format_delim(head(mtcars), \";\"))\n",
       "\n",
       "df &lt;- data.frame(x = c(1, 2, NA))\n",
       "format_csv(df, na = \".\")\n",
       "\n",
       "# Quotes are automatically as needed\n",
       "df &lt;- data.frame(x = c(\"a\", '\"', \",\", \"\\n\"))\n",
       "cat(format_csv(df))\n",
       "\n",
       "# A output connection will be automatically created for output filenames\n",
       "# with appropriate extensions.\n",
       "dir &lt;- tempdir()\n",
       "write_tsv(mtcars, file.path(dir, \"mtcars.tsv.gz\"))\n",
       "write_tsv(mtcars, file.path(dir, \"mtcars.tsv.bz2\"))\n",
       "write_tsv(mtcars, file.path(dir, \"mtcars.tsv.xz\"))\n",
       "</pre>\n",
       "\n",
       "<hr /><div style=\"text-align: center;\">[Package <em>readr</em> version 1.3.1 ]</div>"
      ],
      "text/latex": [
       "\\inputencoding{utf8}\n",
       "\\HeaderA{write\\_delim}{Write a data frame to a delimited file}{write.Rul.delim}\n",
       "\\aliasA{write\\_csv}{write\\_delim}{write.Rul.csv}\n",
       "\\aliasA{write\\_csv2}{write\\_delim}{write.Rul.csv2}\n",
       "\\aliasA{write\\_excel\\_csv}{write\\_delim}{write.Rul.excel.Rul.csv}\n",
       "\\aliasA{write\\_excel\\_csv2}{write\\_delim}{write.Rul.excel.Rul.csv2}\n",
       "\\aliasA{write\\_tsv}{write\\_delim}{write.Rul.tsv}\n",
       "%\n",
       "\\begin{Description}\\relax\n",
       "This is about twice as fast as \\code{\\LinkA{write.csv()}{write.csv}}, and never\n",
       "writes row names. \\code{output\\_column()} is a generic method used to coerce\n",
       "columns to suitable output.\n",
       "\\end{Description}\n",
       "%\n",
       "\\begin{Usage}\n",
       "\\begin{verbatim}\n",
       "write_delim(x, path, delim = \" \", na = \"NA\", append = FALSE,\n",
       "  col_names = !append, quote_escape = \"double\")\n",
       "\n",
       "write_csv(x, path, na = \"NA\", append = FALSE, col_names = !append,\n",
       "  quote_escape = \"double\")\n",
       "\n",
       "write_csv2(x, path, na = \"NA\", append = FALSE, col_names = !append,\n",
       "  quote_escape = \"double\")\n",
       "\n",
       "write_excel_csv(x, path, na = \"NA\", append = FALSE,\n",
       "  col_names = !append, delim = \",\", quote_escape = \"double\")\n",
       "\n",
       "write_excel_csv2(x, path, na = \"NA\", append = FALSE,\n",
       "  col_names = !append, delim = \";\", quote_escape = \"double\")\n",
       "\n",
       "write_tsv(x, path, na = \"NA\", append = FALSE, col_names = !append,\n",
       "  quote_escape = \"double\")\n",
       "\\end{verbatim}\n",
       "\\end{Usage}\n",
       "%\n",
       "\\begin{Arguments}\n",
       "\\begin{ldescription}\n",
       "\\item[\\code{x}] A data frame to write to disk\n",
       "\n",
       "\\item[\\code{path}] Path or connection to write to.\n",
       "\n",
       "\\item[\\code{delim}] Delimiter used to separate values. Defaults to \\code{\" \"} for \\code{write\\_delim()}, \\code{\",\"} for \\code{write\\_excel\\_csv()} and\n",
       "\\code{\";\"} for \\code{write\\_excel\\_csv2()}. Must be a single character.\n",
       "\n",
       "\\item[\\code{na}] String used for missing values. Defaults to NA. Missing values\n",
       "will never be quoted; strings with the same value as \\code{na} will\n",
       "always be quoted.\n",
       "\n",
       "\\item[\\code{append}] If \\code{FALSE}, will overwrite existing file. If \\code{TRUE},\n",
       "will append to existing file. In both cases, if file does not exist a new\n",
       "file is created.\n",
       "\n",
       "\\item[\\code{col\\_names}] Write columns names at the top of the file? Must be either\n",
       "\\code{TRUE} or \\code{FALSE}.\n",
       "\n",
       "\\item[\\code{quote\\_escape}] The type of escaping to use for quoted values, one of\n",
       "\"double\", \"backslash\" or \"none\". You can also use \\code{FALSE}, which is\n",
       "equivalent to \"none\". The default is to double the quotes, which is the\n",
       "format excel expects.\n",
       "\\end{ldescription}\n",
       "\\end{Arguments}\n",
       "%\n",
       "\\begin{Value}\n",
       "\\code{write\\_*()} returns the input \\code{x} invisibly.\n",
       "\\end{Value}\n",
       "%\n",
       "\\begin{Section}{Output}\n",
       "\n",
       "Factors are coerced to character. Doubles are formatted using the grisu3\n",
       "algorithm. POSIXct's are formatted as ISO8601 with a UTC timezone \\emph{Note:\n",
       "\\code{POSIXct} objects in local or non-UTC timezones will be converted to UTC time\n",
       "before writing.}\n",
       "\n",
       "All columns are encoded as UTF-8. \\code{write\\_excel\\_csv()} and \\code{write\\_excel\\_csv2()} also include a\n",
       "\\Rhref{https://en.wikipedia.org/wiki/Byte_order_mark}{UTF-8 Byte order mark}\n",
       "which indicates to Excel the csv is UTF-8 encoded.\n",
       "\n",
       "\\code{write\\_excel\\_csv2()} and \\code{write\\_csv2} were created to allow users with\n",
       "different locale settings save csv files with their default settings \\code{;} as\n",
       "column separator and \\code{,} as decimal separator. This is common in some European countries.\n",
       "\n",
       "Values are only quoted if needed: if they contain a comma, quote or newline.\n",
       "\n",
       "The \\code{write\\_*()} functions will automatically compress outputs if an appropriate extension is given. At present, three\n",
       "extensions are supported, \\code{.gz} for gzip compression, \\code{.bz2} for bzip2 compression and \\code{.xz} for lzma compression.  See\n",
       "the examples for more information.\n",
       "\\end{Section}\n",
       "%\n",
       "\\begin{References}\\relax\n",
       "Florian Loitsch, Printing Floating-Point Numbers Quickly and\n",
       "Accurately with Integers, PLDI '10,\n",
       "\\url{http://www.cs.tufts.edu/~nr/cs257/archive/florian-loitsch/printf.pdf}\n",
       "\\end{References}\n",
       "%\n",
       "\\begin{Examples}\n",
       "\\begin{ExampleCode}\n",
       "tmp <- tempfile()\n",
       "write_csv(mtcars, tmp)\n",
       "head(read_csv(tmp))\n",
       "\n",
       "# format_* is useful for testing and reprexes\n",
       "cat(format_csv(head(mtcars)))\n",
       "cat(format_tsv(head(mtcars)))\n",
       "cat(format_delim(head(mtcars), \";\"))\n",
       "\n",
       "df <- data.frame(x = c(1, 2, NA))\n",
       "format_csv(df, na = \".\")\n",
       "\n",
       "# Quotes are automatically as needed\n",
       "df <- data.frame(x = c(\"a\", '\"', \",\", \"\\n\"))\n",
       "cat(format_csv(df))\n",
       "\n",
       "# A output connection will be automatically created for output filenames\n",
       "# with appropriate extensions.\n",
       "dir <- tempdir()\n",
       "write_tsv(mtcars, file.path(dir, \"mtcars.tsv.gz\"))\n",
       "write_tsv(mtcars, file.path(dir, \"mtcars.tsv.bz2\"))\n",
       "write_tsv(mtcars, file.path(dir, \"mtcars.tsv.xz\"))\n",
       "\\end{ExampleCode}\n",
       "\\end{Examples}"
      ],
      "text/plain": [
       "write_delim               package:readr                R Documentation\n",
       "\n",
       "_\bW_\br_\bi_\bt_\be _\ba _\bd_\ba_\bt_\ba _\bf_\br_\ba_\bm_\be _\bt_\bo _\ba _\bd_\be_\bl_\bi_\bm_\bi_\bt_\be_\bd _\bf_\bi_\bl_\be\n",
       "\n",
       "_\bD_\be_\bs_\bc_\br_\bi_\bp_\bt_\bi_\bo_\bn:\n",
       "\n",
       "     This is about twice as fast as ‘write.csv()’, and never writes row\n",
       "     names. ‘output_column()’ is a generic method used to coerce\n",
       "     columns to suitable output.\n",
       "\n",
       "_\bU_\bs_\ba_\bg_\be:\n",
       "\n",
       "     write_delim(x, path, delim = \" \", na = \"NA\", append = FALSE,\n",
       "       col_names = !append, quote_escape = \"double\")\n",
       "     \n",
       "     write_csv(x, path, na = \"NA\", append = FALSE, col_names = !append,\n",
       "       quote_escape = \"double\")\n",
       "     \n",
       "     write_csv2(x, path, na = \"NA\", append = FALSE, col_names = !append,\n",
       "       quote_escape = \"double\")\n",
       "     \n",
       "     write_excel_csv(x, path, na = \"NA\", append = FALSE,\n",
       "       col_names = !append, delim = \",\", quote_escape = \"double\")\n",
       "     \n",
       "     write_excel_csv2(x, path, na = \"NA\", append = FALSE,\n",
       "       col_names = !append, delim = \";\", quote_escape = \"double\")\n",
       "     \n",
       "     write_tsv(x, path, na = \"NA\", append = FALSE, col_names = !append,\n",
       "       quote_escape = \"double\")\n",
       "     \n",
       "_\bA_\br_\bg_\bu_\bm_\be_\bn_\bt_\bs:\n",
       "\n",
       "       x: A data frame to write to disk\n",
       "\n",
       "    path: Path or connection to write to.\n",
       "\n",
       "   delim: Delimiter used to separate values. Defaults to ‘\" \"’ for\n",
       "          ‘write_delim()’, ‘\",\"’ for ‘write_excel_csv()’ and ‘\";\"’ for\n",
       "          ‘write_excel_csv2()’. Must be a single character.\n",
       "\n",
       "      na: String used for missing values. Defaults to NA. Missing\n",
       "          values will never be quoted; strings with the same value as\n",
       "          ‘na’ will always be quoted.\n",
       "\n",
       "  append: If ‘FALSE’, will overwrite existing file. If ‘TRUE’, will\n",
       "          append to existing file. In both cases, if file does not\n",
       "          exist a new file is created.\n",
       "\n",
       "col_names: Write columns names at the top of the file? Must be either\n",
       "          ‘TRUE’ or ‘FALSE’.\n",
       "\n",
       "quote_escape: The type of escaping to use for quoted values, one of\n",
       "          \"double\", \"backslash\" or \"none\". You can also use ‘FALSE’,\n",
       "          which is equivalent to \"none\". The default is to double the\n",
       "          quotes, which is the format excel expects.\n",
       "\n",
       "_\bV_\ba_\bl_\bu_\be:\n",
       "\n",
       "     ‘write_*()’ returns the input ‘x’ invisibly.\n",
       "\n",
       "_\bO_\bu_\bt_\bp_\bu_\bt:\n",
       "\n",
       "     Factors are coerced to character. Doubles are formatted using the\n",
       "     grisu3 algorithm. POSIXct's are formatted as ISO8601 with a UTC\n",
       "     timezone _Note: ‘POSIXct’ objects in local or non-UTC timezones\n",
       "     will be converted to UTC time before writing._\n",
       "\n",
       "     All columns are encoded as UTF-8. ‘write_excel_csv()’ and\n",
       "     ‘write_excel_csv2()’ also include a UTF-8 Byte order mark which\n",
       "     indicates to Excel the csv is UTF-8 encoded.\n",
       "\n",
       "     ‘write_excel_csv2()’ and ‘write_csv2’ were created to allow users\n",
       "     with different locale settings save csv files with their default\n",
       "     settings ‘;’ as column separator and ‘,’ as decimal separator.\n",
       "     This is common in some European countries.\n",
       "\n",
       "     Values are only quoted if needed: if they contain a comma, quote\n",
       "     or newline.\n",
       "\n",
       "     The ‘write_*()’ functions will automatically compress outputs if\n",
       "     an appropriate extension is given. At present, three extensions\n",
       "     are supported, ‘.gz’ for gzip compression, ‘.bz2’ for bzip2\n",
       "     compression and ‘.xz’ for lzma compression.  See the examples for\n",
       "     more information.\n",
       "\n",
       "_\bR_\be_\bf_\be_\br_\be_\bn_\bc_\be_\bs:\n",
       "\n",
       "     Florian Loitsch, Printing Floating-Point Numbers Quickly and\n",
       "     Accurately with Integers, PLDI '10, <URL:\n",
       "     http://www.cs.tufts.edu/~nr/cs257/archive/florian-loitsch/printf.pdf>\n",
       "\n",
       "_\bE_\bx_\ba_\bm_\bp_\bl_\be_\bs:\n",
       "\n",
       "     tmp <- tempfile()\n",
       "     write_csv(mtcars, tmp)\n",
       "     head(read_csv(tmp))\n",
       "     \n",
       "     # format_* is useful for testing and reprexes\n",
       "     cat(format_csv(head(mtcars)))\n",
       "     cat(format_tsv(head(mtcars)))\n",
       "     cat(format_delim(head(mtcars), \";\"))\n",
       "     \n",
       "     df <- data.frame(x = c(1, 2, NA))\n",
       "     format_csv(df, na = \".\")\n",
       "     \n",
       "     # Quotes are automatically as needed\n",
       "     df <- data.frame(x = c(\"a\", '\"', \",\", \"\\n\"))\n",
       "     cat(format_csv(df))\n",
       "     \n",
       "     # A output connection will be automatically created for output filenames\n",
       "     # with appropriate extensions.\n",
       "     dir <- tempdir()\n",
       "     write_tsv(mtcars, file.path(dir, \"mtcars.tsv.gz\"))\n",
       "     write_tsv(mtcars, file.path(dir, \"mtcars.tsv.bz2\"))\n",
       "     write_tsv(mtcars, file.path(dir, \"mtcars.tsv.xz\"))\n",
       "     "
      ]
     },
     "metadata": {},
     "output_type": "display_data"
    }
   ],
   "source": [
    "?write_csv"
   ]
  },
  {
   "cell_type": "code",
   "execution_count": 103,
   "metadata": {},
   "outputs": [
    {
     "data": {
      "text/html": [
       "22"
      ],
      "text/latex": [
       "22"
      ],
      "text/markdown": [
       "22"
      ],
      "text/plain": [
       "[1] 22"
      ]
     },
     "metadata": {},
     "output_type": "display_data"
    }
   ],
   "source": [
    "length(oswego2$age)"
   ]
  },
  {
   "cell_type": "code",
   "execution_count": 107,
   "metadata": {},
   "outputs": [
    {
     "data": {
      "text/html": [
       "<table>\n",
       "<caption>A data.frame: 6 × 21</caption>\n",
       "<thead>\n",
       "\t<tr><th scope=col>id</th><th scope=col>age</th><th scope=col>sex</th><th scope=col>meal.time</th><th scope=col>ill</th><th scope=col>onset.date</th><th scope=col>onset.time</th><th scope=col>baked.ham</th><th scope=col>spinach</th><th scope=col>mashed.potato</th><th scope=col>⋯</th><th scope=col>jello</th><th scope=col>rolls</th><th scope=col>brown.bread</th><th scope=col>milk</th><th scope=col>coffee</th><th scope=col>water</th><th scope=col>cakes</th><th scope=col>vanilla.ice.cream</th><th scope=col>chocolate.ice.cream</th><th scope=col>fruit.salad</th></tr>\n",
       "\t<tr><th scope=col>&lt;int&gt;</th><th scope=col>&lt;int&gt;</th><th scope=col>&lt;chr&gt;</th><th scope=col>&lt;chr&gt;</th><th scope=col>&lt;chr&gt;</th><th scope=col>&lt;chr&gt;</th><th scope=col>&lt;chr&gt;</th><th scope=col>&lt;chr&gt;</th><th scope=col>&lt;chr&gt;</th><th scope=col>&lt;chr&gt;</th><th scope=col>⋯</th><th scope=col>&lt;chr&gt;</th><th scope=col>&lt;chr&gt;</th><th scope=col>&lt;chr&gt;</th><th scope=col>&lt;chr&gt;</th><th scope=col>&lt;chr&gt;</th><th scope=col>&lt;chr&gt;</th><th scope=col>&lt;chr&gt;</th><th scope=col>&lt;chr&gt;</th><th scope=col>&lt;chr&gt;</th><th scope=col>&lt;chr&gt;</th></tr>\n",
       "</thead>\n",
       "<tbody>\n",
       "\t<tr><td>2</td><td>52</td><td>F</td><td>8:00 PM</td><td>Y</td><td>4/19</td><td>12:30 AM</td><td>Y</td><td>Y</td><td>Y</td><td>⋯</td><td>N</td><td>Y</td><td>N</td><td>N</td><td>Y</td><td>N</td><td>N</td><td>Y</td><td>N</td><td>N</td></tr>\n",
       "\t<tr><td>3</td><td>65</td><td>M</td><td>6:30 PM</td><td>Y</td><td>4/19</td><td>12:30 AM</td><td>Y</td><td>Y</td><td>Y</td><td>⋯</td><td>N</td><td>N</td><td>N</td><td>N</td><td>Y</td><td>N</td><td>N</td><td>Y</td><td>Y</td><td>N</td></tr>\n",
       "\t<tr><td>4</td><td>59</td><td>F</td><td>6:30 PM</td><td>Y</td><td>4/19</td><td>12:30 AM</td><td>Y</td><td>Y</td><td>N</td><td>⋯</td><td>N</td><td>N</td><td>N</td><td>N</td><td>Y</td><td>N</td><td>Y</td><td>Y</td><td>Y</td><td>N</td></tr>\n",
       "\t<tr><td>6</td><td>63</td><td>F</td><td>7:30 PM</td><td>Y</td><td>4/18</td><td>10:30 PM</td><td>Y</td><td>Y</td><td>N</td><td>⋯</td><td>Y</td><td>N</td><td>N</td><td>N</td><td>N</td><td>Y</td><td>N</td><td>Y</td><td>N</td><td>N</td></tr>\n",
       "\t<tr><td>7</td><td>70</td><td>M</td><td>7:30 PM</td><td>Y</td><td>4/18</td><td>10:30 PM</td><td>Y</td><td>Y</td><td>Y</td><td>⋯</td><td>Y</td><td>Y</td><td>Y</td><td>N</td><td>Y</td><td>Y</td><td>N</td><td>Y</td><td>N</td><td>N</td></tr>\n",
       "\t<tr><td>8</td><td>40</td><td>F</td><td>7:30 PM</td><td>Y</td><td>4/19</td><td>2:00 AM </td><td>N</td><td>N</td><td>N</td><td>⋯</td><td>N</td><td>N</td><td>N</td><td>N</td><td>N</td><td>N</td><td>N</td><td>Y</td><td>Y</td><td>N</td></tr>\n",
       "</tbody>\n",
       "</table>\n"
      ],
      "text/latex": [
       "A data.frame: 6 × 21\n",
       "\\begin{tabular}{r|lllllllllllllllllllll}\n",
       " id & age & sex & meal.time & ill & onset.date & onset.time & baked.ham & spinach & mashed.potato & cabbage.salad & jello & rolls & brown.bread & milk & coffee & water & cakes & vanilla.ice.cream & chocolate.ice.cream & fruit.salad\\\\\n",
       " <int> & <int> & <chr> & <chr> & <chr> & <chr> & <chr> & <chr> & <chr> & <chr> & <chr> & <chr> & <chr> & <chr> & <chr> & <chr> & <chr> & <chr> & <chr> & <chr> & <chr>\\\\\n",
       "\\hline\n",
       "\t 2 & 52 & F & 8:00 PM & Y & 4/19 & 12:30 AM & Y & Y & Y & N & N & Y & N & N & Y & N & N & Y & N & N\\\\\n",
       "\t 3 & 65 & M & 6:30 PM & Y & 4/19 & 12:30 AM & Y & Y & Y & Y & N & N & N & N & Y & N & N & Y & Y & N\\\\\n",
       "\t 4 & 59 & F & 6:30 PM & Y & 4/19 & 12:30 AM & Y & Y & N & N & N & N & N & N & Y & N & Y & Y & Y & N\\\\\n",
       "\t 6 & 63 & F & 7:30 PM & Y & 4/18 & 10:30 PM & Y & Y & N & Y & Y & N & N & N & N & Y & N & Y & N & N\\\\\n",
       "\t 7 & 70 & M & 7:30 PM & Y & 4/18 & 10:30 PM & Y & Y & Y & N & Y & Y & Y & N & Y & Y & N & Y & N & N\\\\\n",
       "\t 8 & 40 & F & 7:30 PM & Y & 4/19 & 2:00 AM  & N & N & N & N & N & N & N & N & N & N & N & Y & Y & N\\\\\n",
       "\\end{tabular}\n"
      ],
      "text/markdown": [
       "\n",
       "A data.frame: 6 × 21\n",
       "\n",
       "| id &lt;int&gt; | age &lt;int&gt; | sex &lt;chr&gt; | meal.time &lt;chr&gt; | ill &lt;chr&gt; | onset.date &lt;chr&gt; | onset.time &lt;chr&gt; | baked.ham &lt;chr&gt; | spinach &lt;chr&gt; | mashed.potato &lt;chr&gt; | ⋯ ⋯ | jello &lt;chr&gt; | rolls &lt;chr&gt; | brown.bread &lt;chr&gt; | milk &lt;chr&gt; | coffee &lt;chr&gt; | water &lt;chr&gt; | cakes &lt;chr&gt; | vanilla.ice.cream &lt;chr&gt; | chocolate.ice.cream &lt;chr&gt; | fruit.salad &lt;chr&gt; |\n",
       "|---|---|---|---|---|---|---|---|---|---|---|---|---|---|---|---|---|---|---|---|---|\n",
       "| 2 | 52 | F | 8:00 PM | Y | 4/19 | 12:30 AM | Y | Y | Y | ⋯ | N | Y | N | N | Y | N | N | Y | N | N |\n",
       "| 3 | 65 | M | 6:30 PM | Y | 4/19 | 12:30 AM | Y | Y | Y | ⋯ | N | N | N | N | Y | N | N | Y | Y | N |\n",
       "| 4 | 59 | F | 6:30 PM | Y | 4/19 | 12:30 AM | Y | Y | N | ⋯ | N | N | N | N | Y | N | Y | Y | Y | N |\n",
       "| 6 | 63 | F | 7:30 PM | Y | 4/18 | 10:30 PM | Y | Y | N | ⋯ | Y | N | N | N | N | Y | N | Y | N | N |\n",
       "| 7 | 70 | M | 7:30 PM | Y | 4/18 | 10:30 PM | Y | Y | Y | ⋯ | Y | Y | Y | N | Y | Y | N | Y | N | N |\n",
       "| 8 | 40 | F | 7:30 PM | Y | 4/19 | 2:00 AM  | N | N | N | ⋯ | N | N | N | N | N | N | N | Y | Y | N |\n",
       "\n"
      ],
      "text/plain": [
       "  id age sex meal.time ill onset.date onset.time baked.ham spinach\n",
       "1 2  52  F   8:00 PM   Y   4/19       12:30 AM   Y         Y      \n",
       "2 3  65  M   6:30 PM   Y   4/19       12:30 AM   Y         Y      \n",
       "3 4  59  F   6:30 PM   Y   4/19       12:30 AM   Y         Y      \n",
       "4 6  63  F   7:30 PM   Y   4/18       10:30 PM   Y         Y      \n",
       "5 7  70  M   7:30 PM   Y   4/18       10:30 PM   Y         Y      \n",
       "6 8  40  F   7:30 PM   Y   4/19       2:00 AM    N         N      \n",
       "  mashed.potato ⋯ jello rolls brown.bread milk coffee water cakes\n",
       "1 Y             ⋯ N     Y     N           N    Y      N     N    \n",
       "2 Y             ⋯ N     N     N           N    Y      N     N    \n",
       "3 N             ⋯ N     N     N           N    Y      N     Y    \n",
       "4 N             ⋯ Y     N     N           N    N      Y     N    \n",
       "5 Y             ⋯ Y     Y     Y           N    Y      Y     N    \n",
       "6 N             ⋯ N     N     N           N    N      N     N    \n",
       "  vanilla.ice.cream chocolate.ice.cream fruit.salad\n",
       "1 Y                 N                   N          \n",
       "2 Y                 Y                   N          \n",
       "3 Y                 Y                   N          \n",
       "4 Y                 N                   N          \n",
       "5 Y                 N                   N          \n",
       "6 Y                 Y                   N          "
      ]
     },
     "metadata": {},
     "output_type": "display_data"
    }
   ],
   "source": [
    "oswego %>%\n",
    " head()"
   ]
  },
  {
   "cell_type": "code",
   "execution_count": null,
   "metadata": {},
   "outputs": [],
   "source": []
  }
 ],
 "metadata": {
  "kernelspec": {
   "display_name": "R",
   "language": "R",
   "name": "ir"
  },
  "language_info": {
   "codemirror_mode": "r",
   "file_extension": ".r",
   "mimetype": "text/x-r-source",
   "name": "R",
   "pygments_lexer": "r",
   "version": "3.5.1"
  }
 },
 "nbformat": 4,
 "nbformat_minor": 4
}
